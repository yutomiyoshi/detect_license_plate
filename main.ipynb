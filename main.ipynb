{
 "cells": [
  {
   "cell_type": "markdown",
   "id": "6b379b11-336b-4970-ae89-ba01d5c2e5fb",
   "metadata": {},
   "source": [
    "# 課題1\n",
    "\n",
    "別途支給するテスト用画像(136枚)から、ナンバープレートを検出するプログラムを開発してください。"
   ]
  },
  {
   "cell_type": "markdown",
   "id": "aa025ad9-73d6-4018-89bb-c58097cf9e80",
   "metadata": {},
   "source": [
    "#### 目標\n",
    "\n",
    "ナンバープレートを検出する学習モデルの生成\n",
    "\n",
    "#### 手順\n",
    "\n",
    "##### 1. 訓練用データを配置する\n",
    "\n",
    "画像(.jpg)とアノテーション(.txt)のデータセットを訓練用(train)と評価用(val)に分割して本ディレクトリに配置する。\n",
    "\n",
    "\n",
    "```\n",
    "datasets\n",
    "├　images\n",
    "│　├　train\n",
    "│　│　└　画像(.jpg)\n",
    "│　└　val\n",
    "│　 　└　YOLO形式(.txt)\n",
    "└　labels\n",
    " 　├　train\n",
    " 　│　└　画像(.jpg)\n",
    " 　└　val\n",
    " 　 　└　YOLO形式(.txt)\n",
    "```\n",
    "\n",
    "##### 2. 訓練する\n",
    "\n",
    "直下セル実行\n",
    "\n",
    "重みファイルがyolov5/runs/train/license_plate_detector/weight/に生成される。"
   ]
  },
  {
   "cell_type": "code",
   "execution_count": null,
   "id": "b793a1d1-fbed-422c-9dae-2575578d42dc",
   "metadata": {},
   "outputs": [],
   "source": [
    "!python yolov5/train.py --img 640 --batch 16 --epochs 100 --data dataset.yml --weights yolov5/yolov5m.pt --name license_plate_detector"
   ]
  },
  {
   "cell_type": "markdown",
   "id": "8852cf0c-bedf-4061-bb72-4b1da622b457",
   "metadata": {},
   "source": [
    "# 課題2\n",
    "\n",
    "検出したナンバープレートにBounding Boxを描画した画像を出力してください。"
   ]
  },
  {
   "cell_type": "markdown",
   "id": "54e5cd4e-4c8e-468e-91f9-e23028568d13",
   "metadata": {},
   "source": [
    "#### 目標\n",
    "\n",
    "訓練済みモデルを使用したBounding Boxの推定\n",
    "\n",
    "元画像にBounding Boxを描画\n",
    "\n",
    "#### 手順\n",
    "\n",
    "##### 0. 課題1のコマンドを実行して、モデルを訓練する\n",
    "\n",
    "##### 1. テストデータを配置するｓ\n",
    "\n",
    "Bounding Boxを描画したい画像を配置\n",
    "\n",
    "```\n",
    "tests\n",
    "└　input\n",
    " 　└　画像(.jpg)\n",
    "```\n",
    "\n",
    "##### 2. Bounding Boxを描画する\n",
    "\n",
    "直下セル実行\n",
    "\n",
    "出力先のディレクトリ\n",
    "\n",
    "```\n",
    "tests\n",
    "└　output\n",
    " 　└　画像(.jpg)\n",
    "```"
   ]
  },
  {
   "cell_type": "code",
   "execution_count": null,
   "id": "6547dcfb-2f7d-49af-97f3-6ddd8a16b9f8",
   "metadata": {},
   "outputs": [],
   "source": [
    "import math\n",
    "import torch\n",
    "import cv2\n",
    "import glob\n",
    "import os\n",
    "\n",
    "# 訓練済みモデル\n",
    "model = torch.hub.load(\n",
    "    \"yolov5\", # モデルを読み込むディレクトリ\n",
    "    \"custom\", # モデルの名前\n",
    "    path=\"yolov5/runs/train/license_plate_detector/weights/best.pt\", # 重みファイルのパス\n",
    "    source=\"local\" # gitの公開モデルではなく、ローカルのモデルを使用する\n",
    ")\n",
    "\n",
    "# 検出しきい値\n",
    "model.conf = 0.5\n",
    "\n",
    "input_img_data_path = \"tests/input\"\n",
    "output_img_data_path = \"tests/output\"\n",
    "\n",
    "# 各画像への処理\n",
    "# Bounding Boxの計算と描画\n",
    "for data_path in glob.glob(\"{0}/*\".format(input_img_data_path)):\n",
    "    file_name = os.path.splitext(os.path.basename(data_path))[0]\n",
    "    img = cv2.imread(data_path)\n",
    "    result = model(img)\n",
    "    for row in result.pandas().xyxy[0].itertuples():\n",
    "        cv2.rectangle(\n",
    "            img, \n",
    "            (math.floor(row.xmin), math.floor(row.ymin)), # Bounding Boxの左上座標\n",
    "            (math.floor(row.xmax), math.floor(row.ymax)), # Bounding Boxの右下座標\n",
    "            color=(255, 255, 0), # 青クリーム色の枠線\n",
    "            thickness=2 # 枠線の太さ\n",
    "        )\n",
    "    cv2.imwrite(\"{0}/{1}.jpg\".format(output_img_data_path, file_name), img)"
   ]
  },
  {
   "cell_type": "markdown",
   "id": "7e1abd9e-a6f4-41d3-a534-b938a9304807",
   "metadata": {},
   "source": [
    "# 課題3\n",
    "\n",
    "黄色のナンバープレート(軽自動車)の件数を出力してください。"
   ]
  },
  {
   "cell_type": "markdown",
   "id": "c765bf21-77e2-4c5e-b5e8-0c4bd0769fdd",
   "metadata": {},
   "source": [
    "#### 目標\n",
    "\n",
    "訓練モデルを使用したBounding Boxの推定\n",
    "\n",
    "Bouding Boxの半分サイズのフィルターで画像全体を平滑化（ナンバープレートの代表色を作り出すため）\n",
    "\n",
    "平滑化画像のうち、Bouding Boxの中心のRGBを取得\n",
    "\n",
    "ナンバープレートの色の候補からRGBに最も近いものを推定\n",
    "\n",
    "\n",
    "#### 手順\n",
    "\n",
    "##### 0. 課題1のコマンドを実行して、モデルを訓練する\n",
    "\n",
    "##### 1. テストデータを配置する\n",
    "\n",
    "Bounding Boxを描画したい画像を配置\n",
    "\n",
    "```\n",
    "tests\n",
    "└　input\n",
    " 　└　画像(.jpg)\n",
    "```\n",
    "\n",
    "##### 2. 黄色のナンバープレートを数える\n",
    "\n",
    "直下セル実行\n",
    "\n",
    "黄色のナンバープレートの数が出力される。\n",
    "\n",
    "\n",
    "\n"
   ]
  },
  {
   "cell_type": "code",
   "execution_count": null,
   "id": "c8753d59-554a-44db-af0f-249cd213fbc0",
   "metadata": {},
   "outputs": [],
   "source": []
  }
 ],
 "metadata": {
  "kernelspec": {
   "display_name": "Python 3 (ipykernel)",
   "language": "python",
   "name": "python3"
  },
  "language_info": {
   "codemirror_mode": {
    "name": "ipython",
    "version": 3
   },
   "file_extension": ".py",
   "mimetype": "text/x-python",
   "name": "python",
   "nbconvert_exporter": "python",
   "pygments_lexer": "ipython3",
   "version": "3.11.10"
  }
 },
 "nbformat": 4,
 "nbformat_minor": 5
}
