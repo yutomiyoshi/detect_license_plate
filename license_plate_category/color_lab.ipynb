{
 "cells": [
  {
   "cell_type": "markdown",
   "id": "c769c61b-974d-484e-b917-1ca4f3448cea",
   "metadata": {},
   "source": [
    "# ナンバープレートの色による分類\n",
    "\n",
    "各ナンバープレートを色分析して、代表色を決定する。\n",
    "\n",
    "ナンバープレート検出時に代表色との近さで、分類を決定する。"
   ]
  },
  {
   "cell_type": "code",
   "execution_count": 1,
   "id": "fcbdc771-e749-4932-b953-7be92e61516b",
   "metadata": {},
   "outputs": [],
   "source": [
    "import glob"
   ]
  },
  {
   "cell_type": "code",
   "execution_count": 2,
   "id": "a9be2cd9-6f8b-4c18-b88c-83405989d264",
   "metadata": {},
   "outputs": [],
   "source": [
    "img_paths = glob.glob(\"*.png\")"
   ]
  },
  {
   "cell_type": "code",
   "execution_count": 3,
   "id": "e62b18a7-a0dd-450d-8199-e0a9239f0504",
   "metadata": {},
   "outputs": [],
   "source": [
    "import cv2"
   ]
  },
  {
   "cell_type": "code",
   "execution_count": 4,
   "id": "76f2531f-28c7-4d8a-94bd-7e680dd0911d",
   "metadata": {},
   "outputs": [],
   "source": [
    "import numpy as np"
   ]
  },
  {
   "cell_type": "code",
   "execution_count": 5,
   "id": "82853e30-21fa-4561-b19c-713c16e29d46",
   "metadata": {},
   "outputs": [],
   "source": [
    "import matplotlib.pyplot as plt"
   ]
  },
  {
   "cell_type": "code",
   "execution_count": 6,
   "id": "b00d5610-8f35-4f48-ad25-d65c3792799c",
   "metadata": {},
   "outputs": [],
   "source": [
    "import math"
   ]
  },
  {
   "cell_type": "code",
   "execution_count": 7,
   "id": "68aa38ee-9194-4a38-8ec0-bee8102d1cc4",
   "metadata": {},
   "outputs": [
    {
     "name": "stdout",
     "output_type": "stream",
     "text": [
      "category2.png 110.25025303643724 137.2295883940621\n",
      "category1.png 123.06975371120107 184.37862685560054\n",
      "category0.png 120.27952091767881 131.32607962213226\n"
     ]
    },
    {
     "data": {
      "text/plain": [
       "Text(0, 0.5, 'b_score')"
      ]
     },
     "execution_count": 7,
     "metadata": {},
     "output_type": "execute_result"
    },
    {
     "data": {
      "image/png": "[encoded data removed]",
      "text/plain": [
       "<Figure size 640x480 with 1 Axes>"
      ]
     },
     "metadata": {},
     "output_type": "display_data"
    }
   ],
   "source": [
    "a_score_list = []\n",
    "b_score_list = []\n",
    "color_list = []\n",
    "\n",
    "for img_path in img_paths:\n",
    "    img = cv2.imread(img_path)\n",
    "    img_lab = cv2.cvtColor(img, cv2.COLOR_BGR2Lab)\n",
    "    width = img.shape[1]\n",
    "    height = img.shape[0]\n",
    "    x0 = math.floor(width / 4)\n",
    "    y0 = math.floor(height / 4)\n",
    "    x1 = math.floor(width * 3 / 4)\n",
    "    y1 = math.floor(height * 3 / 4)\n",
    "    extract_area = img[y0:y1, x0:x1]\n",
    "    extract_area_lab = img_lab[y0:y1, x0:x1]\n",
    "    blue, green, red = np.mean(extract_area, axis=(0, 1))\n",
    "    _, a_score, b_score = np.mean(extract_area_lab, axis=(0, 1))\n",
    "    print(img_path, a_score, b_score)\n",
    "    color = [red / 255, green / 255, red / 255, 0.5]\n",
    "    a_score_list.append(a_score)\n",
    "    b_score_list.append(b_score)\n",
    "    color_list.append(color)\n",
    "    \n",
    "fig, ax = plt.subplots()\n",
    "ax.scatter(a_score_list, b_score_list, c=color_list)\n",
    "ax.set_xlabel(\"a_score\")\n",
    "ax.set_ylabel(\"b_score\")"
   ]
  },
  {
   "cell_type": "code",
   "execution_count": null,
   "id": "2a497be6-0aeb-45b3-a8cf-8c2fc34f98c2",
   "metadata": {},
   "outputs": [],
   "source": []
  }
 ],
 "metadata": {
  "kernelspec": {
   "display_name": "Python 3 (ipykernel)",
   "language": "python",
   "name": "python3"
  },
  "language_info": {
   "codemirror_mode": {
    "name": "ipython",
    "version": 3
   },
   "file_extension": ".py",
   "mimetype": "text/x-python",
   "name": "python",
   "nbconvert_exporter": "python",
   "pygments_lexer": "ipython3",
   "version": "3.11.10"
  }
 },
 "nbformat": 4,
 "nbformat_minor": 5
}
